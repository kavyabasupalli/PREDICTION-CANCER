{
 "cells": [
  {
   "cell_type": "markdown",
   "id": "f85d6c64",
   "metadata": {},
   "source": [
    "#  Data Mining ISM6136 - Final project\n",
    "## Group - Elite\n",
    "\n",
    "### Members:\n",
    "1. Rahul Reddy Vemparala  - U79474665\n",
    "2. Nihar Reddy Lonka - U60570876\n",
    "3. Sreeja  Katanguri - U89168040\n",
    "4. Vineeth Lanka - U60221702\n",
    "5. Akhila Siddabatula - U73439960\n",
    "6. Kavya Reddy Basupalli - U22892161"
   ]
  },
  {
   "cell_type": "markdown",
   "id": "b624a1bb",
   "metadata": {},
   "source": [
    "# Source dataset: Breast Cancer Trial Data of Wisconsin city\n",
    "## Source information: \n",
    "The source data is sampled clinical trial findings for the Wisconsin city. The findinds dataset contains the test results of a popular biposy technique called (FNA)Fine Needle Aspirate.\n",
    "\n",
    "resource: UCI ML repository: [reference link](https://archive.ics.uci.edu/ml/datasets/Breast+Cancer+Wisconsin+%28Diagnostic%29)\n",
    "\n",
    "\n",
    "# Business problem: \n",
    "1. Some times the biposy result might indicate a tumor to be Benign(Harmless) but later this tumor may split and spread infecting internal tissues, i.e. turning into a Malignant tumor(Harmful). \n",
    "2. Hence, we need a predictive model ,that could understand the biopsy(FNA) result and predict if a tumor could actual be Malignant(Spreading / Harmful) in the future."
   ]
  },
  {
   "cell_type": "markdown",
   "id": "fa1380d9",
   "metadata": {},
   "source": [
    "# import libraries "
   ]
  },
  {
   "cell_type": "code",
   "execution_count": 1,
   "id": "f00e9646",
   "metadata": {},
   "outputs": [],
   "source": [
    "import pandas as pd\n",
    "import numpy as np \n",
    "import json\n",
    "\n",
    "#third party \n",
    "from sklearn.model_selection import train_test_split, cross_val_score, GridSearchCV\n",
    "\n",
    "from sklearn.metrics import confusion_matrix, accuracy_score, precision_score, recall_score, f1_score\n",
    "from sklearn.metrics import classification_report\n",
    "from sklearn.metrics import plot_roc_curve, roc_auc_score, roc_curve, auc, RocCurveDisplay, PrecisionRecallDisplay, precision_recall_curve\n",
    "\n",
    "\n",
    "from sklearn import preprocessing \n",
    "from sklearn.neighbors import KNeighborsClassifier\n",
    "from sklearn.tree import DecisionTreeClassifier\n",
    "\n",
    "\n",
    "from __future__ import print_function\n",
    "from sklearn.neural_network import MLPClassifier\n",
    "from sklearn.model_selection import GridSearchCV, RandomizedSearchCV\n",
    "\n",
    "from sklearn.ensemble import RandomForestClassifier, GradientBoostingClassifier, AdaBoostClassifier\n",
    "\n",
    "from sklearn.preprocessing import LabelEncoder\n",
    "from sklearn.linear_model import LogisticRegression\n",
    "\n",
    "\n",
    "from __future__ import print_function\n",
    "from sklearn.neural_network import MLPClassifier\n",
    "\n",
    "\n",
    "from sklearn.tree import plot_tree\n",
    "import matplotlib.pyplot as plt\n",
    "import seaborn as sns\n",
    "\n"
   ]
  },
  {
   "cell_type": "code",
   "execution_count": 2,
   "id": "94a0ea96",
   "metadata": {},
   "outputs": [],
   "source": [
    "# set seed \n",
    "np.random.seed(20)"
   ]
  },
  {
   "cell_type": "markdown",
   "id": "bc0538fc",
   "metadata": {},
   "source": [
    "# Load source data"
   ]
  },
  {
   "cell_type": "code",
   "execution_count": 3,
   "id": "7e288e9a",
   "metadata": {},
   "outputs": [
    {
     "data": {
      "text/html": [
       "<div>\n",
       "<style scoped>\n",
       "    .dataframe tbody tr th:only-of-type {\n",
       "        vertical-align: middle;\n",
       "    }\n",
       "\n",
       "    .dataframe tbody tr th {\n",
       "        vertical-align: top;\n",
       "    }\n",
       "\n",
       "    .dataframe thead th {\n",
       "        text-align: right;\n",
       "    }\n",
       "</style>\n",
       "<table border=\"1\" class=\"dataframe\">\n",
       "  <thead>\n",
       "    <tr style=\"text-align: right;\">\n",
       "      <th></th>\n",
       "      <th>Sample code number</th>\n",
       "      <th>Clump Thickness</th>\n",
       "      <th>Uniformity of Cell Size</th>\n",
       "      <th>Uniformity of Cell Shape</th>\n",
       "      <th>Marginal Adhesion</th>\n",
       "      <th>Single Epithelial Cell Size</th>\n",
       "      <th>Bare Nuclei</th>\n",
       "      <th>Bland Chromatin</th>\n",
       "      <th>Normal Nucleoli</th>\n",
       "      <th>Mitoses</th>\n",
       "      <th>Class</th>\n",
       "    </tr>\n",
       "  </thead>\n",
       "  <tbody>\n",
       "    <tr>\n",
       "      <th>0</th>\n",
       "      <td>1000025</td>\n",
       "      <td>5</td>\n",
       "      <td>1</td>\n",
       "      <td>1</td>\n",
       "      <td>1</td>\n",
       "      <td>2</td>\n",
       "      <td>1</td>\n",
       "      <td>3</td>\n",
       "      <td>1</td>\n",
       "      <td>1</td>\n",
       "      <td>2</td>\n",
       "    </tr>\n",
       "    <tr>\n",
       "      <th>1</th>\n",
       "      <td>1002945</td>\n",
       "      <td>5</td>\n",
       "      <td>4</td>\n",
       "      <td>4</td>\n",
       "      <td>5</td>\n",
       "      <td>7</td>\n",
       "      <td>10</td>\n",
       "      <td>3</td>\n",
       "      <td>2</td>\n",
       "      <td>1</td>\n",
       "      <td>2</td>\n",
       "    </tr>\n",
       "    <tr>\n",
       "      <th>2</th>\n",
       "      <td>1015425</td>\n",
       "      <td>3</td>\n",
       "      <td>1</td>\n",
       "      <td>1</td>\n",
       "      <td>1</td>\n",
       "      <td>2</td>\n",
       "      <td>2</td>\n",
       "      <td>3</td>\n",
       "      <td>1</td>\n",
       "      <td>1</td>\n",
       "      <td>2</td>\n",
       "    </tr>\n",
       "    <tr>\n",
       "      <th>3</th>\n",
       "      <td>1016277</td>\n",
       "      <td>6</td>\n",
       "      <td>8</td>\n",
       "      <td>8</td>\n",
       "      <td>1</td>\n",
       "      <td>3</td>\n",
       "      <td>4</td>\n",
       "      <td>3</td>\n",
       "      <td>7</td>\n",
       "      <td>1</td>\n",
       "      <td>2</td>\n",
       "    </tr>\n",
       "    <tr>\n",
       "      <th>4</th>\n",
       "      <td>1017023</td>\n",
       "      <td>4</td>\n",
       "      <td>1</td>\n",
       "      <td>1</td>\n",
       "      <td>3</td>\n",
       "      <td>2</td>\n",
       "      <td>1</td>\n",
       "      <td>3</td>\n",
       "      <td>1</td>\n",
       "      <td>1</td>\n",
       "      <td>2</td>\n",
       "    </tr>\n",
       "    <tr>\n",
       "      <th>5</th>\n",
       "      <td>1017122</td>\n",
       "      <td>8</td>\n",
       "      <td>10</td>\n",
       "      <td>10</td>\n",
       "      <td>8</td>\n",
       "      <td>7</td>\n",
       "      <td>10</td>\n",
       "      <td>9</td>\n",
       "      <td>7</td>\n",
       "      <td>1</td>\n",
       "      <td>4</td>\n",
       "    </tr>\n",
       "    <tr>\n",
       "      <th>6</th>\n",
       "      <td>1018099</td>\n",
       "      <td>1</td>\n",
       "      <td>1</td>\n",
       "      <td>1</td>\n",
       "      <td>1</td>\n",
       "      <td>2</td>\n",
       "      <td>10</td>\n",
       "      <td>3</td>\n",
       "      <td>1</td>\n",
       "      <td>1</td>\n",
       "      <td>2</td>\n",
       "    </tr>\n",
       "    <tr>\n",
       "      <th>7</th>\n",
       "      <td>1018561</td>\n",
       "      <td>2</td>\n",
       "      <td>1</td>\n",
       "      <td>2</td>\n",
       "      <td>1</td>\n",
       "      <td>2</td>\n",
       "      <td>1</td>\n",
       "      <td>3</td>\n",
       "      <td>1</td>\n",
       "      <td>1</td>\n",
       "      <td>2</td>\n",
       "    </tr>\n",
       "    <tr>\n",
       "      <th>8</th>\n",
       "      <td>1033078</td>\n",
       "      <td>2</td>\n",
       "      <td>1</td>\n",
       "      <td>1</td>\n",
       "      <td>1</td>\n",
       "      <td>2</td>\n",
       "      <td>1</td>\n",
       "      <td>1</td>\n",
       "      <td>1</td>\n",
       "      <td>5</td>\n",
       "      <td>2</td>\n",
       "    </tr>\n",
       "    <tr>\n",
       "      <th>9</th>\n",
       "      <td>1033078</td>\n",
       "      <td>4</td>\n",
       "      <td>2</td>\n",
       "      <td>1</td>\n",
       "      <td>1</td>\n",
       "      <td>2</td>\n",
       "      <td>1</td>\n",
       "      <td>2</td>\n",
       "      <td>1</td>\n",
       "      <td>1</td>\n",
       "      <td>2</td>\n",
       "    </tr>\n",
       "    <tr>\n",
       "      <th>10</th>\n",
       "      <td>1035283</td>\n",
       "      <td>1</td>\n",
       "      <td>1</td>\n",
       "      <td>1</td>\n",
       "      <td>1</td>\n",
       "      <td>1</td>\n",
       "      <td>1</td>\n",
       "      <td>3</td>\n",
       "      <td>1</td>\n",
       "      <td>1</td>\n",
       "      <td>2</td>\n",
       "    </tr>\n",
       "    <tr>\n",
       "      <th>11</th>\n",
       "      <td>1036172</td>\n",
       "      <td>2</td>\n",
       "      <td>1</td>\n",
       "      <td>1</td>\n",
       "      <td>1</td>\n",
       "      <td>2</td>\n",
       "      <td>1</td>\n",
       "      <td>2</td>\n",
       "      <td>1</td>\n",
       "      <td>1</td>\n",
       "      <td>2</td>\n",
       "    </tr>\n",
       "    <tr>\n",
       "      <th>12</th>\n",
       "      <td>1041801</td>\n",
       "      <td>5</td>\n",
       "      <td>3</td>\n",
       "      <td>3</td>\n",
       "      <td>3</td>\n",
       "      <td>2</td>\n",
       "      <td>3</td>\n",
       "      <td>4</td>\n",
       "      <td>4</td>\n",
       "      <td>1</td>\n",
       "      <td>4</td>\n",
       "    </tr>\n",
       "    <tr>\n",
       "      <th>13</th>\n",
       "      <td>1043999</td>\n",
       "      <td>1</td>\n",
       "      <td>1</td>\n",
       "      <td>1</td>\n",
       "      <td>1</td>\n",
       "      <td>2</td>\n",
       "      <td>3</td>\n",
       "      <td>3</td>\n",
       "      <td>1</td>\n",
       "      <td>1</td>\n",
       "      <td>2</td>\n",
       "    </tr>\n",
       "    <tr>\n",
       "      <th>14</th>\n",
       "      <td>1044572</td>\n",
       "      <td>8</td>\n",
       "      <td>7</td>\n",
       "      <td>5</td>\n",
       "      <td>10</td>\n",
       "      <td>7</td>\n",
       "      <td>9</td>\n",
       "      <td>5</td>\n",
       "      <td>5</td>\n",
       "      <td>4</td>\n",
       "      <td>4</td>\n",
       "    </tr>\n",
       "    <tr>\n",
       "      <th>15</th>\n",
       "      <td>1047630</td>\n",
       "      <td>7</td>\n",
       "      <td>4</td>\n",
       "      <td>6</td>\n",
       "      <td>4</td>\n",
       "      <td>6</td>\n",
       "      <td>1</td>\n",
       "      <td>4</td>\n",
       "      <td>3</td>\n",
       "      <td>1</td>\n",
       "      <td>4</td>\n",
       "    </tr>\n",
       "    <tr>\n",
       "      <th>16</th>\n",
       "      <td>1048672</td>\n",
       "      <td>4</td>\n",
       "      <td>1</td>\n",
       "      <td>1</td>\n",
       "      <td>1</td>\n",
       "      <td>2</td>\n",
       "      <td>1</td>\n",
       "      <td>2</td>\n",
       "      <td>1</td>\n",
       "      <td>1</td>\n",
       "      <td>2</td>\n",
       "    </tr>\n",
       "    <tr>\n",
       "      <th>17</th>\n",
       "      <td>1049815</td>\n",
       "      <td>4</td>\n",
       "      <td>1</td>\n",
       "      <td>1</td>\n",
       "      <td>1</td>\n",
       "      <td>2</td>\n",
       "      <td>1</td>\n",
       "      <td>3</td>\n",
       "      <td>1</td>\n",
       "      <td>1</td>\n",
       "      <td>2</td>\n",
       "    </tr>\n",
       "    <tr>\n",
       "      <th>18</th>\n",
       "      <td>1050670</td>\n",
       "      <td>10</td>\n",
       "      <td>7</td>\n",
       "      <td>7</td>\n",
       "      <td>6</td>\n",
       "      <td>4</td>\n",
       "      <td>10</td>\n",
       "      <td>4</td>\n",
       "      <td>1</td>\n",
       "      <td>2</td>\n",
       "      <td>4</td>\n",
       "    </tr>\n",
       "    <tr>\n",
       "      <th>19</th>\n",
       "      <td>1050718</td>\n",
       "      <td>6</td>\n",
       "      <td>1</td>\n",
       "      <td>1</td>\n",
       "      <td>1</td>\n",
       "      <td>2</td>\n",
       "      <td>1</td>\n",
       "      <td>3</td>\n",
       "      <td>1</td>\n",
       "      <td>1</td>\n",
       "      <td>2</td>\n",
       "    </tr>\n",
       "  </tbody>\n",
       "</table>\n",
       "</div>"
      ],
      "text/plain": [
       "    Sample code number  Clump Thickness  Uniformity of Cell Size  \\\n",
       "0              1000025                5                        1   \n",
       "1              1002945                5                        4   \n",
       "2              1015425                3                        1   \n",
       "3              1016277                6                        8   \n",
       "4              1017023                4                        1   \n",
       "5              1017122                8                       10   \n",
       "6              1018099                1                        1   \n",
       "7              1018561                2                        1   \n",
       "8              1033078                2                        1   \n",
       "9              1033078                4                        2   \n",
       "10             1035283                1                        1   \n",
       "11             1036172                2                        1   \n",
       "12             1041801                5                        3   \n",
       "13             1043999                1                        1   \n",
       "14             1044572                8                        7   \n",
       "15             1047630                7                        4   \n",
       "16             1048672                4                        1   \n",
       "17             1049815                4                        1   \n",
       "18             1050670               10                        7   \n",
       "19             1050718                6                        1   \n",
       "\n",
       "    Uniformity of Cell Shape  Marginal Adhesion  Single Epithelial Cell Size  \\\n",
       "0                          1                  1                            2   \n",
       "1                          4                  5                            7   \n",
       "2                          1                  1                            2   \n",
       "3                          8                  1                            3   \n",
       "4                          1                  3                            2   \n",
       "5                         10                  8                            7   \n",
       "6                          1                  1                            2   \n",
       "7                          2                  1                            2   \n",
       "8                          1                  1                            2   \n",
       "9                          1                  1                            2   \n",
       "10                         1                  1                            1   \n",
       "11                         1                  1                            2   \n",
       "12                         3                  3                            2   \n",
       "13                         1                  1                            2   \n",
       "14                         5                 10                            7   \n",
       "15                         6                  4                            6   \n",
       "16                         1                  1                            2   \n",
       "17                         1                  1                            2   \n",
       "18                         7                  6                            4   \n",
       "19                         1                  1                            2   \n",
       "\n",
       "   Bare Nuclei  Bland Chromatin  Normal Nucleoli  Mitoses  Class  \n",
       "0            1                3                1        1      2  \n",
       "1           10                3                2        1      2  \n",
       "2            2                3                1        1      2  \n",
       "3            4                3                7        1      2  \n",
       "4            1                3                1        1      2  \n",
       "5           10                9                7        1      4  \n",
       "6           10                3                1        1      2  \n",
       "7            1                3                1        1      2  \n",
       "8            1                1                1        5      2  \n",
       "9            1                2                1        1      2  \n",
       "10           1                3                1        1      2  \n",
       "11           1                2                1        1      2  \n",
       "12           3                4                4        1      4  \n",
       "13           3                3                1        1      2  \n",
       "14           9                5                5        4      4  \n",
       "15           1                4                3        1      4  \n",
       "16           1                2                1        1      2  \n",
       "17           1                3                1        1      2  \n",
       "18          10                4                1        2      4  \n",
       "19           1                3                1        1      2  "
      ]
     },
     "execution_count": 3,
     "metadata": {},
     "output_type": "execute_result"
    }
   ],
   "source": [
    "# input file path \n",
    "input_file_path = \"breast-cancer-wisconsin-with-headers.csv\"\n",
    "\n",
    "# read csv into pandas dataframe\n",
    "df = pd.read_csv(input_file_path)\n",
    "df.head(20)"
   ]
  },
  {
   "cell_type": "markdown",
   "id": "c919bc5c",
   "metadata": {},
   "source": [
    "# Pre-processing"
   ]
  },
  {
   "cell_type": "code",
   "execution_count": 4,
   "id": "a899ac1b",
   "metadata": {},
   "outputs": [
    {
     "data": {
      "text/plain": [
       "Index(['SAMPLE_CODE_NUMBER', 'CLUMP_THICKNESS', 'UNIFORMITY_OF_CELL_SIZE',\n",
       "       'UNIFORMITY_OF_CELL_SHAPE', 'MARGINAL_ADHESION',\n",
       "       'SINGLE_EPITHELIAL_CELL_SIZE', 'BARE_NUCLEI', 'BLAND_CHROMATIN',\n",
       "       'NORMAL_NUCLEOLI', 'MITOSES', 'CLASS'],\n",
       "      dtype='object')"
      ]
     },
     "execution_count": 4,
     "metadata": {},
     "output_type": "execute_result"
    }
   ],
   "source": [
    "df.columns = [s.strip().upper().replace(' ', '_') for s in df.columns] \n",
    "df.columns"
   ]
  },
  {
   "cell_type": "markdown",
   "id": "3abc2d6a",
   "metadata": {},
   "source": [
    "## Drop identifier columns from Predictors"
   ]
  },
  {
   "cell_type": "code",
   "execution_count": 5,
   "id": "5a9c7360",
   "metadata": {},
   "outputs": [
    {
     "data": {
      "text/html": [
       "<div>\n",
       "<style scoped>\n",
       "    .dataframe tbody tr th:only-of-type {\n",
       "        vertical-align: middle;\n",
       "    }\n",
       "\n",
       "    .dataframe tbody tr th {\n",
       "        vertical-align: top;\n",
       "    }\n",
       "\n",
       "    .dataframe thead th {\n",
       "        text-align: right;\n",
       "    }\n",
       "</style>\n",
       "<table border=\"1\" class=\"dataframe\">\n",
       "  <thead>\n",
       "    <tr style=\"text-align: right;\">\n",
       "      <th></th>\n",
       "      <th>CLUMP_THICKNESS</th>\n",
       "      <th>UNIFORMITY_OF_CELL_SIZE</th>\n",
       "      <th>UNIFORMITY_OF_CELL_SHAPE</th>\n",
       "      <th>MARGINAL_ADHESION</th>\n",
       "      <th>SINGLE_EPITHELIAL_CELL_SIZE</th>\n",
       "      <th>BARE_NUCLEI</th>\n",
       "      <th>BLAND_CHROMATIN</th>\n",
       "      <th>NORMAL_NUCLEOLI</th>\n",
       "      <th>MITOSES</th>\n",
       "      <th>CLASS</th>\n",
       "    </tr>\n",
       "  </thead>\n",
       "  <tbody>\n",
       "    <tr>\n",
       "      <th>0</th>\n",
       "      <td>5</td>\n",
       "      <td>1</td>\n",
       "      <td>1</td>\n",
       "      <td>1</td>\n",
       "      <td>2</td>\n",
       "      <td>1</td>\n",
       "      <td>3</td>\n",
       "      <td>1</td>\n",
       "      <td>1</td>\n",
       "      <td>2</td>\n",
       "    </tr>\n",
       "    <tr>\n",
       "      <th>1</th>\n",
       "      <td>5</td>\n",
       "      <td>4</td>\n",
       "      <td>4</td>\n",
       "      <td>5</td>\n",
       "      <td>7</td>\n",
       "      <td>10</td>\n",
       "      <td>3</td>\n",
       "      <td>2</td>\n",
       "      <td>1</td>\n",
       "      <td>2</td>\n",
       "    </tr>\n",
       "    <tr>\n",
       "      <th>2</th>\n",
       "      <td>3</td>\n",
       "      <td>1</td>\n",
       "      <td>1</td>\n",
       "      <td>1</td>\n",
       "      <td>2</td>\n",
       "      <td>2</td>\n",
       "      <td>3</td>\n",
       "      <td>1</td>\n",
       "      <td>1</td>\n",
       "      <td>2</td>\n",
       "    </tr>\n",
       "    <tr>\n",
       "      <th>3</th>\n",
       "      <td>6</td>\n",
       "      <td>8</td>\n",
       "      <td>8</td>\n",
       "      <td>1</td>\n",
       "      <td>3</td>\n",
       "      <td>4</td>\n",
       "      <td>3</td>\n",
       "      <td>7</td>\n",
       "      <td>1</td>\n",
       "      <td>2</td>\n",
       "    </tr>\n",
       "    <tr>\n",
       "      <th>4</th>\n",
       "      <td>4</td>\n",
       "      <td>1</td>\n",
       "      <td>1</td>\n",
       "      <td>3</td>\n",
       "      <td>2</td>\n",
       "      <td>1</td>\n",
       "      <td>3</td>\n",
       "      <td>1</td>\n",
       "      <td>1</td>\n",
       "      <td>2</td>\n",
       "    </tr>\n",
       "  </tbody>\n",
       "</table>\n",
       "</div>"
      ],
      "text/plain": [
       "   CLUMP_THICKNESS  UNIFORMITY_OF_CELL_SIZE  UNIFORMITY_OF_CELL_SHAPE  \\\n",
       "0                5                        1                         1   \n",
       "1                5                        4                         4   \n",
       "2                3                        1                         1   \n",
       "3                6                        8                         8   \n",
       "4                4                        1                         1   \n",
       "\n",
       "   MARGINAL_ADHESION  SINGLE_EPITHELIAL_CELL_SIZE BARE_NUCLEI  \\\n",
       "0                  1                            2           1   \n",
       "1                  5                            7          10   \n",
       "2                  1                            2           2   \n",
       "3                  1                            3           4   \n",
       "4                  3                            2           1   \n",
       "\n",
       "   BLAND_CHROMATIN  NORMAL_NUCLEOLI  MITOSES  CLASS  \n",
       "0                3                1        1      2  \n",
       "1                3                2        1      2  \n",
       "2                3                1        1      2  \n",
       "3                3                7        1      2  \n",
       "4                3                1        1      2  "
      ]
     },
     "execution_count": 5,
     "metadata": {},
     "output_type": "execute_result"
    }
   ],
   "source": [
    "\n",
    "identifiers = ['SAMPLE_CODE_NUMBER']\n",
    "for x in identifiers:\n",
    "    if x in list(df.columns):\n",
    "        df.drop(columns=x,inplace = True)\n",
    "df.head(5)"
   ]
  },
  {
   "cell_type": "markdown",
   "id": "ea2dc133",
   "metadata": {},
   "source": [
    "## Handling missing values : represented as '?' in source"
   ]
  },
  {
   "cell_type": "code",
   "execution_count": 6,
   "id": "7f864ff3",
   "metadata": {},
   "outputs": [
    {
     "data": {
      "text/plain": [
       "CLUMP_THICKNESS                 0\n",
       "UNIFORMITY_OF_CELL_SIZE         0\n",
       "UNIFORMITY_OF_CELL_SHAPE        0\n",
       "MARGINAL_ADHESION               0\n",
       "SINGLE_EPITHELIAL_CELL_SIZE     0\n",
       "BARE_NUCLEI                    16\n",
       "BLAND_CHROMATIN                 0\n",
       "NORMAL_NUCLEOLI                 0\n",
       "MITOSES                         0\n",
       "CLASS                           0\n",
       "dtype: int64"
      ]
     },
     "execution_count": 6,
     "metadata": {},
     "output_type": "execute_result"
    }
   ],
   "source": [
    "df=df.replace('?',np.nan)\n",
    "\n",
    "# check for missing values\n",
    "df.isnull().sum()"
   ]
  },
  {
   "cell_type": "markdown",
   "id": "dcb527cf",
   "metadata": {},
   "source": [
    "1. The column **'BARE_NUCLEI'** has 16 'NaN' characters, which is comparitvely smaller to the non null values in the column.\n",
    "2. As you can see the majority of the values in the above column are not NaN values, it would be advantageous to keep them around.\n",
    "3. In this case, we impute the missing values with either mean of the non-null values or the median. "
   ]
  },
  {
   "cell_type": "code",
   "execution_count": 7,
   "id": "c5436530",
   "metadata": {},
   "outputs": [
    {
     "name": "stdout",
     "output_type": "stream",
     "text": [
      "After imputing the NaN with the median, the non-NaN value count for column 'BARE NUCLEI': 699 \n"
     ]
    }
   ],
   "source": [
    "median_bare_nuclei = df['BARE_NUCLEI'].median()\n",
    "df.BARE_NUCLEI = df.BARE_NUCLEI.fillna(value=median_bare_nuclei)\n",
    "print(f\"After imputing the NaN with the median, the non-NaN value count for column 'BARE NUCLEI': {df['BARE_NUCLEI'].count()} \")"
   ]
  },
  {
   "cell_type": "code",
   "execution_count": 8,
   "id": "b2d3c57a",
   "metadata": {},
   "outputs": [
    {
     "name": "stdout",
     "output_type": "stream",
     "text": [
      "[2 4]\n"
     ]
    },
    {
     "data": {
      "text/html": [
       "<div>\n",
       "<style scoped>\n",
       "    .dataframe tbody tr th:only-of-type {\n",
       "        vertical-align: middle;\n",
       "    }\n",
       "\n",
       "    .dataframe tbody tr th {\n",
       "        vertical-align: top;\n",
       "    }\n",
       "\n",
       "    .dataframe thead th {\n",
       "        text-align: right;\n",
       "    }\n",
       "</style>\n",
       "<table border=\"1\" class=\"dataframe\">\n",
       "  <thead>\n",
       "    <tr style=\"text-align: right;\">\n",
       "      <th></th>\n",
       "      <th>CLUMP_THICKNESS</th>\n",
       "      <th>UNIFORMITY_OF_CELL_SIZE</th>\n",
       "      <th>UNIFORMITY_OF_CELL_SHAPE</th>\n",
       "      <th>MARGINAL_ADHESION</th>\n",
       "      <th>SINGLE_EPITHELIAL_CELL_SIZE</th>\n",
       "      <th>BLAND_CHROMATIN</th>\n",
       "      <th>NORMAL_NUCLEOLI</th>\n",
       "      <th>MITOSES</th>\n",
       "    </tr>\n",
       "  </thead>\n",
       "  <tbody>\n",
       "    <tr>\n",
       "      <th>count</th>\n",
       "      <td>699.000000</td>\n",
       "      <td>699.000000</td>\n",
       "      <td>699.000000</td>\n",
       "      <td>699.000000</td>\n",
       "      <td>699.000000</td>\n",
       "      <td>699.000000</td>\n",
       "      <td>699.000000</td>\n",
       "      <td>699.000000</td>\n",
       "    </tr>\n",
       "    <tr>\n",
       "      <th>mean</th>\n",
       "      <td>4.417740</td>\n",
       "      <td>3.134478</td>\n",
       "      <td>3.207439</td>\n",
       "      <td>2.806867</td>\n",
       "      <td>3.216023</td>\n",
       "      <td>3.437768</td>\n",
       "      <td>2.866953</td>\n",
       "      <td>1.589413</td>\n",
       "    </tr>\n",
       "    <tr>\n",
       "      <th>std</th>\n",
       "      <td>2.815741</td>\n",
       "      <td>3.051459</td>\n",
       "      <td>2.971913</td>\n",
       "      <td>2.855379</td>\n",
       "      <td>2.214300</td>\n",
       "      <td>2.438364</td>\n",
       "      <td>3.053634</td>\n",
       "      <td>1.715078</td>\n",
       "    </tr>\n",
       "    <tr>\n",
       "      <th>min</th>\n",
       "      <td>1.000000</td>\n",
       "      <td>1.000000</td>\n",
       "      <td>1.000000</td>\n",
       "      <td>1.000000</td>\n",
       "      <td>1.000000</td>\n",
       "      <td>1.000000</td>\n",
       "      <td>1.000000</td>\n",
       "      <td>1.000000</td>\n",
       "    </tr>\n",
       "    <tr>\n",
       "      <th>25%</th>\n",
       "      <td>2.000000</td>\n",
       "      <td>1.000000</td>\n",
       "      <td>1.000000</td>\n",
       "      <td>1.000000</td>\n",
       "      <td>2.000000</td>\n",
       "      <td>2.000000</td>\n",
       "      <td>1.000000</td>\n",
       "      <td>1.000000</td>\n",
       "    </tr>\n",
       "    <tr>\n",
       "      <th>50%</th>\n",
       "      <td>4.000000</td>\n",
       "      <td>1.000000</td>\n",
       "      <td>1.000000</td>\n",
       "      <td>1.000000</td>\n",
       "      <td>2.000000</td>\n",
       "      <td>3.000000</td>\n",
       "      <td>1.000000</td>\n",
       "      <td>1.000000</td>\n",
       "    </tr>\n",
       "    <tr>\n",
       "      <th>75%</th>\n",
       "      <td>6.000000</td>\n",
       "      <td>5.000000</td>\n",
       "      <td>5.000000</td>\n",
       "      <td>4.000000</td>\n",
       "      <td>4.000000</td>\n",
       "      <td>5.000000</td>\n",
       "      <td>4.000000</td>\n",
       "      <td>1.000000</td>\n",
       "    </tr>\n",
       "    <tr>\n",
       "      <th>max</th>\n",
       "      <td>10.000000</td>\n",
       "      <td>10.000000</td>\n",
       "      <td>10.000000</td>\n",
       "      <td>10.000000</td>\n",
       "      <td>10.000000</td>\n",
       "      <td>10.000000</td>\n",
       "      <td>10.000000</td>\n",
       "      <td>10.000000</td>\n",
       "    </tr>\n",
       "  </tbody>\n",
       "</table>\n",
       "</div>"
      ],
      "text/plain": [
       "       CLUMP_THICKNESS  UNIFORMITY_OF_CELL_SIZE  UNIFORMITY_OF_CELL_SHAPE  \\\n",
       "count       699.000000               699.000000                699.000000   \n",
       "mean          4.417740                 3.134478                  3.207439   \n",
       "std           2.815741                 3.051459                  2.971913   \n",
       "min           1.000000                 1.000000                  1.000000   \n",
       "25%           2.000000                 1.000000                  1.000000   \n",
       "50%           4.000000                 1.000000                  1.000000   \n",
       "75%           6.000000                 5.000000                  5.000000   \n",
       "max          10.000000                10.000000                 10.000000   \n",
       "\n",
       "       MARGINAL_ADHESION  SINGLE_EPITHELIAL_CELL_SIZE  BLAND_CHROMATIN  \\\n",
       "count         699.000000                   699.000000       699.000000   \n",
       "mean            2.806867                     3.216023         3.437768   \n",
       "std             2.855379                     2.214300         2.438364   \n",
       "min             1.000000                     1.000000         1.000000   \n",
       "25%             1.000000                     2.000000         2.000000   \n",
       "50%             1.000000                     2.000000         3.000000   \n",
       "75%             4.000000                     4.000000         5.000000   \n",
       "max            10.000000                    10.000000        10.000000   \n",
       "\n",
       "       NORMAL_NUCLEOLI     MITOSES  \n",
       "count       699.000000  699.000000  \n",
       "mean          2.866953    1.589413  \n",
       "std           3.053634    1.715078  \n",
       "min           1.000000    1.000000  \n",
       "25%           1.000000    1.000000  \n",
       "50%           1.000000    1.000000  \n",
       "75%           4.000000    1.000000  \n",
       "max          10.000000   10.000000  "
      ]
     },
     "execution_count": 8,
     "metadata": {},
     "output_type": "execute_result"
    }
   ],
   "source": [
    "print(df.CLASS.unique())\n",
    "df.CLASS = df.CLASS.astype('category')\n",
    "df.describe()"
   ]
  },
  {
   "cell_type": "markdown",
   "id": "91fd0d29",
   "metadata": {},
   "source": [
    "## Encoding target column - CLASS"
   ]
  },
  {
   "cell_type": "code",
   "execution_count": 9,
   "id": "d9a29344",
   "metadata": {},
   "outputs": [],
   "source": [
    "df['CLASS'] = df['CLASS'].replace(2, 0)\n",
    "df['CLASS'] = df['CLASS'].replace(4, 1)"
   ]
  },
  {
   "cell_type": "code",
   "execution_count": 10,
   "id": "7bec2ff0",
   "metadata": {},
   "outputs": [],
   "source": [
    "# Train split the input data "
   ]
  },
  {
   "cell_type": "code",
   "execution_count": 11,
   "id": "d762ca22",
   "metadata": {},
   "outputs": [],
   "source": [
    "test_part_size_percent = 0.3 # for a 70/30 split "
   ]
  },
  {
   "cell_type": "code",
   "execution_count": 12,
   "id": "c9da6829",
   "metadata": {},
   "outputs": [
    {
     "name": "stdout",
     "output_type": "stream",
     "text": [
      "489\n"
     ]
    }
   ],
   "source": [
    "cols = list(df.columns)\n",
    "cols.remove('CLASS')\n",
    "\n",
    "y = df['CLASS']\n",
    "X = df[cols]\n",
    "\n",
    "X_train,X_test,y_train,y_test = train_test_split(X,y,test_size=test_part_size_percent, random_state=0)\n",
    "print(len(y_train))\n"
   ]
  },
  {
   "cell_type": "markdown",
   "id": "664ab37e",
   "metadata": {},
   "source": [
    "## Address Data Imbalance"
   ]
  },
  {
   "cell_type": "code",
   "execution_count": 13,
   "id": "b439a04e",
   "metadata": {},
   "outputs": [
    {
     "name": "stdout",
     "output_type": "stream",
     "text": [
      "   Total benign cases: 458\n",
      "   Total malignant cases: 241\n",
      "   Percentage of malignant cases: 34.47782546494993\n"
     ]
    }
   ],
   "source": [
    "benign_N = len(df[df.CLASS== 0]) # number of benign cases \n",
    "malignant_N = len(df[df.CLASS== 1]) # number of malignant cases\n",
    "percentage_of_malignant  = malignant_N/df.shape[0] # number of malignat cases / total records\n",
    "\n",
    "\n",
    "print(f\"   Total benign cases: {benign_N}\")\n",
    "print(f\"   Total malignant cases: {malignant_N}\")\n",
    "print(f\"   Percentage of malignant cases: {percentage_of_malignant*100}\")"
   ]
  },
  {
   "cell_type": "markdown",
   "id": "d3b459bb",
   "metadata": {},
   "source": [
    "1. As you can see from the above result, there is clearly an imbalance in our input data with benign being a majority group and malignant is a minority group.\n",
    "2. In our case, its important to identify patients who actually have cancer(result shows malignant). and the input data contains less of these cases. which means that the cost of \"TN\" is substantially high than \"FP\".\n",
    "\n",
    "4. By default k-nn needs >=50% of the nearest neighbors to chose a group. But in our data, we want the malignant cases to be chosen. Hence we will lower our percentage for the k-nn to consider the minority class.\n"
   ]
  },
  {
   "cell_type": "markdown",
   "id": "0e3e008f",
   "metadata": {},
   "source": [
    "# Model Implementation"
   ]
  },
  {
   "cell_type": "markdown",
   "id": "b9f0f45b",
   "metadata": {},
   "source": [
    "##  choosing the best metric for comparison:"
   ]
  },
  {
   "cell_type": "markdown",
   "id": "0da9183f",
   "metadata": {},
   "source": [
    "\n",
    "1. In case of the clinical trial breast cancer data, we need to predict if a patient will be diagnosed with cancer or not.\n",
    "2. Our prediction model, most not only be accurate, but must be sensitive to unwanted errors, lets look at the possible errors\n",
    "3. The possible errors in our case are, a False Postive(FP) and False Negative(FN).\n",
    "4. Comparing the costs of each error, the FN is extremely high compared to  FP beause the patient's trusts the prediction of the model and refuses to take the necessary diagnosis at the right time, as a result this might lead to death of the patient.\n",
    "5. Any cost, our model must make sure to reduce the FN errors as much as possible. and the best metric that accounts for a FN error is **\"Sensitvity or Recall\"** of a model\n",
    "\n",
    "Therefore we choose ,Recall to be our final performance metric for comparision of model performance."
   ]
  },
  {
   "cell_type": "code",
   "execution_count": 14,
   "id": "1d106a54",
   "metadata": {},
   "outputs": [],
   "source": [
    "# final resultset\n",
    "\n",
    "model_selection = []\n"
   ]
  },
  {
   "cell_type": "markdown",
   "id": "b6b1be43",
   "metadata": {},
   "source": [
    "## K-nn"
   ]
  },
  {
   "cell_type": "code",
   "execution_count": 15,
   "id": "48a75450",
   "metadata": {},
   "outputs": [
    {
     "data": {
      "text/html": [
       "<div>\n",
       "<style scoped>\n",
       "    .dataframe tbody tr th:only-of-type {\n",
       "        vertical-align: middle;\n",
       "    }\n",
       "\n",
       "    .dataframe tbody tr th {\n",
       "        vertical-align: top;\n",
       "    }\n",
       "\n",
       "    .dataframe thead th {\n",
       "        text-align: right;\n",
       "    }\n",
       "</style>\n",
       "<table border=\"1\" class=\"dataframe\">\n",
       "  <thead>\n",
       "    <tr style=\"text-align: right;\">\n",
       "      <th></th>\n",
       "      <th>k</th>\n",
       "      <th>threshold</th>\n",
       "      <th>TP</th>\n",
       "      <th>TN</th>\n",
       "      <th>FP</th>\n",
       "      <th>FN</th>\n",
       "      <th>accuracy</th>\n",
       "      <th>precision</th>\n",
       "      <th>recall</th>\n",
       "      <th>f1</th>\n",
       "    </tr>\n",
       "  </thead>\n",
       "  <tbody>\n",
       "    <tr>\n",
       "      <th>0</th>\n",
       "      <td>1</td>\n",
       "      <td>0.05</td>\n",
       "      <td>71</td>\n",
       "      <td>130</td>\n",
       "      <td>5</td>\n",
       "      <td>4</td>\n",
       "      <td>0.957143</td>\n",
       "      <td>0.934211</td>\n",
       "      <td>0.946667</td>\n",
       "      <td>0.940397</td>\n",
       "    </tr>\n",
       "    <tr>\n",
       "      <th>1</th>\n",
       "      <td>3</td>\n",
       "      <td>0.05</td>\n",
       "      <td>73</td>\n",
       "      <td>128</td>\n",
       "      <td>7</td>\n",
       "      <td>2</td>\n",
       "      <td>0.957143</td>\n",
       "      <td>0.912500</td>\n",
       "      <td>0.973333</td>\n",
       "      <td>0.941935</td>\n",
       "    </tr>\n",
       "    <tr>\n",
       "      <th>2</th>\n",
       "      <td>5</td>\n",
       "      <td>0.05</td>\n",
       "      <td>74</td>\n",
       "      <td>127</td>\n",
       "      <td>8</td>\n",
       "      <td>1</td>\n",
       "      <td>0.957143</td>\n",
       "      <td>0.902439</td>\n",
       "      <td>0.986667</td>\n",
       "      <td>0.942675</td>\n",
       "    </tr>\n",
       "    <tr>\n",
       "      <th>3</th>\n",
       "      <td>7</td>\n",
       "      <td>0.05</td>\n",
       "      <td>74</td>\n",
       "      <td>126</td>\n",
       "      <td>9</td>\n",
       "      <td>1</td>\n",
       "      <td>0.952381</td>\n",
       "      <td>0.891566</td>\n",
       "      <td>0.986667</td>\n",
       "      <td>0.936709</td>\n",
       "    </tr>\n",
       "    <tr>\n",
       "      <th>4</th>\n",
       "      <td>9</td>\n",
       "      <td>0.05</td>\n",
       "      <td>74</td>\n",
       "      <td>126</td>\n",
       "      <td>9</td>\n",
       "      <td>1</td>\n",
       "      <td>0.952381</td>\n",
       "      <td>0.891566</td>\n",
       "      <td>0.986667</td>\n",
       "      <td>0.936709</td>\n",
       "    </tr>\n",
       "    <tr>\n",
       "      <th>...</th>\n",
       "      <td>...</td>\n",
       "      <td>...</td>\n",
       "      <td>...</td>\n",
       "      <td>...</td>\n",
       "      <td>...</td>\n",
       "      <td>...</td>\n",
       "      <td>...</td>\n",
       "      <td>...</td>\n",
       "      <td>...</td>\n",
       "      <td>...</td>\n",
       "    </tr>\n",
       "    <tr>\n",
       "      <th>127</th>\n",
       "      <td>35</td>\n",
       "      <td>0.30</td>\n",
       "      <td>74</td>\n",
       "      <td>125</td>\n",
       "      <td>10</td>\n",
       "      <td>1</td>\n",
       "      <td>0.947619</td>\n",
       "      <td>0.880952</td>\n",
       "      <td>0.986667</td>\n",
       "      <td>0.930818</td>\n",
       "    </tr>\n",
       "    <tr>\n",
       "      <th>128</th>\n",
       "      <td>37</td>\n",
       "      <td>0.30</td>\n",
       "      <td>74</td>\n",
       "      <td>125</td>\n",
       "      <td>10</td>\n",
       "      <td>1</td>\n",
       "      <td>0.947619</td>\n",
       "      <td>0.880952</td>\n",
       "      <td>0.986667</td>\n",
       "      <td>0.930818</td>\n",
       "    </tr>\n",
       "    <tr>\n",
       "      <th>129</th>\n",
       "      <td>39</td>\n",
       "      <td>0.30</td>\n",
       "      <td>74</td>\n",
       "      <td>125</td>\n",
       "      <td>10</td>\n",
       "      <td>1</td>\n",
       "      <td>0.947619</td>\n",
       "      <td>0.880952</td>\n",
       "      <td>0.986667</td>\n",
       "      <td>0.930818</td>\n",
       "    </tr>\n",
       "    <tr>\n",
       "      <th>130</th>\n",
       "      <td>41</td>\n",
       "      <td>0.30</td>\n",
       "      <td>73</td>\n",
       "      <td>126</td>\n",
       "      <td>9</td>\n",
       "      <td>2</td>\n",
       "      <td>0.947619</td>\n",
       "      <td>0.890244</td>\n",
       "      <td>0.973333</td>\n",
       "      <td>0.929936</td>\n",
       "    </tr>\n",
       "    <tr>\n",
       "      <th>131</th>\n",
       "      <td>43</td>\n",
       "      <td>0.30</td>\n",
       "      <td>73</td>\n",
       "      <td>126</td>\n",
       "      <td>9</td>\n",
       "      <td>2</td>\n",
       "      <td>0.947619</td>\n",
       "      <td>0.890244</td>\n",
       "      <td>0.973333</td>\n",
       "      <td>0.929936</td>\n",
       "    </tr>\n",
       "  </tbody>\n",
       "</table>\n",
       "<p>132 rows × 10 columns</p>\n",
       "</div>"
      ],
      "text/plain": [
       "      k  threshold  TP   TN  FP  FN  accuracy  precision    recall        f1\n",
       "0     1       0.05  71  130   5   4  0.957143   0.934211  0.946667  0.940397\n",
       "1     3       0.05  73  128   7   2  0.957143   0.912500  0.973333  0.941935\n",
       "2     5       0.05  74  127   8   1  0.957143   0.902439  0.986667  0.942675\n",
       "3     7       0.05  74  126   9   1  0.952381   0.891566  0.986667  0.936709\n",
       "4     9       0.05  74  126   9   1  0.952381   0.891566  0.986667  0.936709\n",
       "..   ..        ...  ..  ...  ..  ..       ...        ...       ...       ...\n",
       "127  35       0.30  74  125  10   1  0.947619   0.880952  0.986667  0.930818\n",
       "128  37       0.30  74  125  10   1  0.947619   0.880952  0.986667  0.930818\n",
       "129  39       0.30  74  125  10   1  0.947619   0.880952  0.986667  0.930818\n",
       "130  41       0.30  73  126   9   2  0.947619   0.890244  0.973333  0.929936\n",
       "131  43       0.30  73  126   9   2  0.947619   0.890244  0.973333  0.929936\n",
       "\n",
       "[132 rows x 10 columns]"
      ]
     },
     "execution_count": 15,
     "metadata": {},
     "output_type": "execute_result"
    }
   ],
   "source": [
    "start = 0.05\n",
    "end = 0.35\n",
    "interval = 0.05 \n",
    "results = []\n",
    "for threshold in np.round(np.arange(start, end, interval),3):\n",
    "    for k in range(1,int(len(y_train)**0.5)*2,2):\n",
    "        knn = KNeighborsClassifier(n_neighbors=k,  metric='euclidean')\n",
    "        knn.fit(X_train, y_train)\n",
    "        predictions = (knn.predict_proba(X_test)[:, 1]>= 0.05).astype(int)\n",
    "\n",
    "        confusion = confusion_matrix(y_test, predictions)\n",
    "        \n",
    "        TP = confusion[1,1]\n",
    "        TN = confusion[0,0]\n",
    "        FP = confusion[0,1]\n",
    "        FN = confusion[1,0]\n",
    "        accuracy = (TP+TN)/(TP+TN+FP+FN)\n",
    "        precision = TP/(TP+FP)\n",
    "        recall = TP/(FN+TP)      \n",
    "        f1 = (2 * precision * recall) / (precision + recall)\n",
    "                \n",
    "        results.append(\n",
    "            { \n",
    "            'k':k,\n",
    "            'threshold':threshold,\n",
    "            'TP': TP,\n",
    "            'TN': TN,\n",
    "            'FP': FP,\n",
    "            'FN': FN,\n",
    "            'accuracy': (TP+TN)/(TP+TN+FP+FN),\n",
    "            'precision': TP/(TP+FP),\n",
    "            'recall':TP/(FN+TP),\n",
    "            'f1': f1\n",
    "        })\n",
    "\n",
    "df = pd.DataFrame(results)\n",
    "df"
   ]
  },
  {
   "cell_type": "code",
   "execution_count": 16,
   "id": "d98c2d4b",
   "metadata": {},
   "outputs": [
    {
     "data": {
      "text/html": [
       "<div>\n",
       "<style scoped>\n",
       "    .dataframe tbody tr th:only-of-type {\n",
       "        vertical-align: middle;\n",
       "    }\n",
       "\n",
       "    .dataframe tbody tr th {\n",
       "        vertical-align: top;\n",
       "    }\n",
       "\n",
       "    .dataframe thead th {\n",
       "        text-align: right;\n",
       "    }\n",
       "</style>\n",
       "<table border=\"1\" class=\"dataframe\">\n",
       "  <thead>\n",
       "    <tr style=\"text-align: right;\">\n",
       "      <th></th>\n",
       "      <th>k</th>\n",
       "      <th>threshold</th>\n",
       "      <th>TP</th>\n",
       "      <th>TN</th>\n",
       "      <th>FP</th>\n",
       "      <th>FN</th>\n",
       "      <th>accuracy</th>\n",
       "      <th>precision</th>\n",
       "      <th>recall</th>\n",
       "      <th>f1</th>\n",
       "    </tr>\n",
       "  </thead>\n",
       "  <tbody>\n",
       "    <tr>\n",
       "      <th>2</th>\n",
       "      <td>5</td>\n",
       "      <td>0.05</td>\n",
       "      <td>74</td>\n",
       "      <td>127</td>\n",
       "      <td>8</td>\n",
       "      <td>1</td>\n",
       "      <td>0.957143</td>\n",
       "      <td>0.902439</td>\n",
       "      <td>0.986667</td>\n",
       "      <td>0.942675</td>\n",
       "    </tr>\n",
       "    <tr>\n",
       "      <th>3</th>\n",
       "      <td>7</td>\n",
       "      <td>0.05</td>\n",
       "      <td>74</td>\n",
       "      <td>126</td>\n",
       "      <td>9</td>\n",
       "      <td>1</td>\n",
       "      <td>0.952381</td>\n",
       "      <td>0.891566</td>\n",
       "      <td>0.986667</td>\n",
       "      <td>0.936709</td>\n",
       "    </tr>\n",
       "    <tr>\n",
       "      <th>4</th>\n",
       "      <td>9</td>\n",
       "      <td>0.05</td>\n",
       "      <td>74</td>\n",
       "      <td>126</td>\n",
       "      <td>9</td>\n",
       "      <td>1</td>\n",
       "      <td>0.952381</td>\n",
       "      <td>0.891566</td>\n",
       "      <td>0.986667</td>\n",
       "      <td>0.936709</td>\n",
       "    </tr>\n",
       "    <tr>\n",
       "      <th>5</th>\n",
       "      <td>11</td>\n",
       "      <td>0.05</td>\n",
       "      <td>74</td>\n",
       "      <td>125</td>\n",
       "      <td>10</td>\n",
       "      <td>1</td>\n",
       "      <td>0.947619</td>\n",
       "      <td>0.880952</td>\n",
       "      <td>0.986667</td>\n",
       "      <td>0.930818</td>\n",
       "    </tr>\n",
       "    <tr>\n",
       "      <th>6</th>\n",
       "      <td>13</td>\n",
       "      <td>0.05</td>\n",
       "      <td>74</td>\n",
       "      <td>125</td>\n",
       "      <td>10</td>\n",
       "      <td>1</td>\n",
       "      <td>0.947619</td>\n",
       "      <td>0.880952</td>\n",
       "      <td>0.986667</td>\n",
       "      <td>0.930818</td>\n",
       "    </tr>\n",
       "    <tr>\n",
       "      <th>...</th>\n",
       "      <td>...</td>\n",
       "      <td>...</td>\n",
       "      <td>...</td>\n",
       "      <td>...</td>\n",
       "      <td>...</td>\n",
       "      <td>...</td>\n",
       "      <td>...</td>\n",
       "      <td>...</td>\n",
       "      <td>...</td>\n",
       "      <td>...</td>\n",
       "    </tr>\n",
       "    <tr>\n",
       "      <th>125</th>\n",
       "      <td>31</td>\n",
       "      <td>0.30</td>\n",
       "      <td>74</td>\n",
       "      <td>126</td>\n",
       "      <td>9</td>\n",
       "      <td>1</td>\n",
       "      <td>0.952381</td>\n",
       "      <td>0.891566</td>\n",
       "      <td>0.986667</td>\n",
       "      <td>0.936709</td>\n",
       "    </tr>\n",
       "    <tr>\n",
       "      <th>126</th>\n",
       "      <td>33</td>\n",
       "      <td>0.30</td>\n",
       "      <td>74</td>\n",
       "      <td>125</td>\n",
       "      <td>10</td>\n",
       "      <td>1</td>\n",
       "      <td>0.947619</td>\n",
       "      <td>0.880952</td>\n",
       "      <td>0.986667</td>\n",
       "      <td>0.930818</td>\n",
       "    </tr>\n",
       "    <tr>\n",
       "      <th>127</th>\n",
       "      <td>35</td>\n",
       "      <td>0.30</td>\n",
       "      <td>74</td>\n",
       "      <td>125</td>\n",
       "      <td>10</td>\n",
       "      <td>1</td>\n",
       "      <td>0.947619</td>\n",
       "      <td>0.880952</td>\n",
       "      <td>0.986667</td>\n",
       "      <td>0.930818</td>\n",
       "    </tr>\n",
       "    <tr>\n",
       "      <th>128</th>\n",
       "      <td>37</td>\n",
       "      <td>0.30</td>\n",
       "      <td>74</td>\n",
       "      <td>125</td>\n",
       "      <td>10</td>\n",
       "      <td>1</td>\n",
       "      <td>0.947619</td>\n",
       "      <td>0.880952</td>\n",
       "      <td>0.986667</td>\n",
       "      <td>0.930818</td>\n",
       "    </tr>\n",
       "    <tr>\n",
       "      <th>129</th>\n",
       "      <td>39</td>\n",
       "      <td>0.30</td>\n",
       "      <td>74</td>\n",
       "      <td>125</td>\n",
       "      <td>10</td>\n",
       "      <td>1</td>\n",
       "      <td>0.947619</td>\n",
       "      <td>0.880952</td>\n",
       "      <td>0.986667</td>\n",
       "      <td>0.930818</td>\n",
       "    </tr>\n",
       "  </tbody>\n",
       "</table>\n",
       "<p>108 rows × 10 columns</p>\n",
       "</div>"
      ],
      "text/plain": [
       "      k  threshold  TP   TN  FP  FN  accuracy  precision    recall        f1\n",
       "2     5       0.05  74  127   8   1  0.957143   0.902439  0.986667  0.942675\n",
       "3     7       0.05  74  126   9   1  0.952381   0.891566  0.986667  0.936709\n",
       "4     9       0.05  74  126   9   1  0.952381   0.891566  0.986667  0.936709\n",
       "5    11       0.05  74  125  10   1  0.947619   0.880952  0.986667  0.930818\n",
       "6    13       0.05  74  125  10   1  0.947619   0.880952  0.986667  0.930818\n",
       "..   ..        ...  ..  ...  ..  ..       ...        ...       ...       ...\n",
       "125  31       0.30  74  126   9   1  0.952381   0.891566  0.986667  0.936709\n",
       "126  33       0.30  74  125  10   1  0.947619   0.880952  0.986667  0.930818\n",
       "127  35       0.30  74  125  10   1  0.947619   0.880952  0.986667  0.930818\n",
       "128  37       0.30  74  125  10   1  0.947619   0.880952  0.986667  0.930818\n",
       "129  39       0.30  74  125  10   1  0.947619   0.880952  0.986667  0.930818\n",
       "\n",
       "[108 rows x 10 columns]"
      ]
     },
     "execution_count": 16,
     "metadata": {},
     "output_type": "execute_result"
    }
   ],
   "source": [
    "X = df[df['recall'] == df['recall'].max()]\n",
    "X"
   ]
  },
  {
   "cell_type": "markdown",
   "id": "56454309",
   "metadata": {},
   "source": [
    "## Observation: \n",
    "1.the closed K- value to square root 'n' is the best fitting model , as greater than that will tend to overfit the model,\n",
    "therefore k= 5  with threshold 0.05 is the best k-nn model "
   ]
  },
  {
   "cell_type": "code",
   "execution_count": 17,
   "id": "4c123097",
   "metadata": {},
   "outputs": [
    {
     "data": {
      "text/html": [
       "<div>\n",
       "<style scoped>\n",
       "    .dataframe tbody tr th:only-of-type {\n",
       "        vertical-align: middle;\n",
       "    }\n",
       "\n",
       "    .dataframe tbody tr th {\n",
       "        vertical-align: top;\n",
       "    }\n",
       "\n",
       "    .dataframe thead th {\n",
       "        text-align: right;\n",
       "    }\n",
       "</style>\n",
       "<table border=\"1\" class=\"dataframe\">\n",
       "  <thead>\n",
       "    <tr style=\"text-align: right;\">\n",
       "      <th></th>\n",
       "      <th>k</th>\n",
       "      <th>threshold</th>\n",
       "      <th>TP</th>\n",
       "      <th>TN</th>\n",
       "      <th>FP</th>\n",
       "      <th>FN</th>\n",
       "      <th>accuracy</th>\n",
       "      <th>precision</th>\n",
       "      <th>recall</th>\n",
       "      <th>f1</th>\n",
       "    </tr>\n",
       "  </thead>\n",
       "  <tbody>\n",
       "    <tr>\n",
       "      <th>2</th>\n",
       "      <td>5</td>\n",
       "      <td>0.05</td>\n",
       "      <td>74</td>\n",
       "      <td>127</td>\n",
       "      <td>8</td>\n",
       "      <td>1</td>\n",
       "      <td>0.957143</td>\n",
       "      <td>0.902439</td>\n",
       "      <td>0.986667</td>\n",
       "      <td>0.942675</td>\n",
       "    </tr>\n",
       "  </tbody>\n",
       "</table>\n",
       "</div>"
      ],
      "text/plain": [
       "   k  threshold  TP   TN  FP  FN  accuracy  precision    recall        f1\n",
       "2  5       0.05  74  127   8   1  0.957143   0.902439  0.986667  0.942675"
      ]
     },
     "execution_count": 17,
     "metadata": {},
     "output_type": "execute_result"
    }
   ],
   "source": [
    "k5 = df.loc[df['k'] == 5]\n",
    "k5_thres = k5[k5['threshold'] == 0.05]\n",
    "k5_thres"
   ]
  },
  {
   "cell_type": "code",
   "execution_count": 18,
   "id": "9b51863e",
   "metadata": {},
   "outputs": [],
   "source": [
    "## add result to model selection \n",
    "\n",
    "knn_recall = float(k5_thres['recall'])\n",
    "knn_recall\n",
    "\n",
    "row = (\"K-nn\", \"k=5, threshold = 0.05\", knn_recall)\n",
    "model_selection.append(row)\n"
   ]
  },
  {
   "cell_type": "markdown",
   "id": "637338f6",
   "metadata": {},
   "source": [
    "# D tree"
   ]
  },
  {
   "cell_type": "code",
   "execution_count": 19,
   "id": "014ccff8",
   "metadata": {},
   "outputs": [],
   "source": [
    "classTree = DecisionTreeClassifier(random_state=0, max_depth=4, max_leaf_nodes = 3)\n",
    "_ = classTree.fit(X_train , y_train)"
   ]
  },
  {
   "cell_type": "code",
   "execution_count": 20,
   "id": "55e1697e",
   "metadata": {},
   "outputs": [
    {
     "data": {
      "image/png": "[encoded data removed]",
      "text/plain": [
       "<Figure size 1050x1050 with 1 Axes>"
      ]
     },
     "metadata": {
      "needs_background": "light"
     },
     "output_type": "display_data"
    }
   ],
   "source": [
    "fig = plt.figure(figsize=(7,7), dpi=150)\n",
    "_ = plot_tree(classTree, \n",
    "            feature_names=df.columns, \n",
    "            class_names=['benign', 'malignant'],\n",
    "                filled=True,\n",
    "                fontsize=7\n",
    "             )"
   ]
  },
  {
   "cell_type": "code",
   "execution_count": 21,
   "id": "e9424356",
   "metadata": {},
   "outputs": [
    {
     "name": "stdout",
     "output_type": "stream",
     "text": [
      "Accuracy= 0.9447852760736196\n",
      "Precision= 0.8716577540106952\n",
      "Recall= 0.9819277108433735\n",
      "f1= 0.9235127478753541\n"
     ]
    }
   ],
   "source": [
    "print(f\"Accuracy=\", accuracy_score(y_train, classTree.predict(X_train)))\n",
    "print(f\"Precision=\", precision_score(y_train, classTree.predict(X_train)))\n",
    "print(f\"Recall=\", recall_score(y_train, classTree.predict(X_train)))\n",
    "print(f\"f1=\", f1_score(y_train, classTree.predict(X_train)))"
   ]
  },
  {
   "cell_type": "code",
   "execution_count": 22,
   "id": "fc72a680",
   "metadata": {},
   "outputs": [
    {
     "name": "stdout",
     "output_type": "stream",
     "text": [
      "              precision    recall  f1-score   support\n",
      "\n",
      "      Benign       0.98      0.87      0.92       135\n",
      "   Malignant       0.80      0.97      0.88        75\n",
      "\n",
      "    accuracy                           0.90       210\n",
      "   macro avg       0.89      0.92      0.90       210\n",
      "weighted avg       0.92      0.90      0.91       210\n",
      "\n"
     ]
    }
   ],
   "source": [
    "print(classification_report(y_test, classTree.predict(X_test), target_names=['Benign', 'Malignant']))"
   ]
  },
  {
   "cell_type": "code",
   "execution_count": 23,
   "id": "86dbff5d",
   "metadata": {},
   "outputs": [],
   "source": [
    "dtree_row = (\"D-tree\",\"depth = 4, leaf_nodes = 3\", float(recall_score(y_train, classTree.predict(X_train)) ))\n",
    "model_selection.append(dtree_row)"
   ]
  },
  {
   "cell_type": "markdown",
   "id": "f6423055",
   "metadata": {},
   "source": [
    "# Hyper parameter tunning: Decision Tree"
   ]
  },
  {
   "cell_type": "code",
   "execution_count": 24,
   "id": "83e1f39f",
   "metadata": {},
   "outputs": [
    {
     "name": "stdout",
     "output_type": "stream",
     "text": [
      "recall score:  0.9632352941176471\n",
      "parameters:  {'max_depth': 5, 'min_impurity_decrease': 0, 'min_samples_split': 60}\n"
     ]
    }
   ],
   "source": [
    "#'max_depth': 2, 'min_impurity_decrease': 0, 'min_samples_split': 2\n",
    "\n",
    "score_measure = 'recall'\n",
    "k_fold = 10\n",
    "# Start with an initial guess for parameters\n",
    "param_grid = {\n",
    "    'max_depth': [2, 5, 10, 20, 30, 40], \n",
    "    'min_samples_split': [2, 5, 10, 20, 40, 60, 80, 100], \n",
    "    'min_impurity_decrease': [0,  0.0005, 0.001, 0.005, 0.01], \n",
    "}\n",
    "gridSearch = GridSearchCV(DecisionTreeClassifier(random_state=1), param_grid, cv=k_fold, scoring=score_measure,\n",
    "                          n_jobs=-1)  # n_jobs=-1 will utilize all available CPUs \n",
    "gridSearch.fit(X_train, y_train)\n",
    "print(score_measure, 'score: ', gridSearch.best_score_)\n",
    "print('parameters: ', gridSearch.best_params_)\n",
    "\n",
    "bestPrecisionTree = gridSearch.best_estimator_\n",
    "\n"
   ]
  },
  {
   "cell_type": "code",
   "execution_count": 25,
   "id": "946173f6",
   "metadata": {},
   "outputs": [],
   "source": [
    "dtreeh = (\"D_tree_HPT\",str(gridSearch.best_params_), gridSearch.best_score_)\n",
    "model_selection.append(dtreeh)"
   ]
  },
  {
   "cell_type": "markdown",
   "id": "9a3fb67d",
   "metadata": {},
   "source": [
    "# Hyper parameter tuning: K-nn model"
   ]
  },
  {
   "cell_type": "code",
   "execution_count": 26,
   "id": "98732ab0",
   "metadata": {},
   "outputs": [
    {
     "name": "stdout",
     "output_type": "stream",
     "text": [
      "recall score:  0.9577205882352942\n",
      "parameters:  {'metric': 'euclidean', 'n_neighbors': 5}\n"
     ]
    }
   ],
   "source": [
    "score_measure = 'recall'\n",
    "k_fold = 10\n",
    "# Start with an initial guess for parameters\n",
    "param_grid = {\n",
    "    'n_neighbors': list(range(1,27,2)),\n",
    "    'metric': ['euclidean', 'cosine']\n",
    "}\n",
    "gridSearch = GridSearchCV(KNeighborsClassifier(), param_grid, cv=k_fold, scoring=score_measure,\n",
    "                          n_jobs=-1)  # n_jobs=-1 will utilize all available CPUs \n",
    "gridSearch.fit(X_train, y_train)\n",
    "print(score_measure, 'score: ', gridSearch.best_score_)\n",
    "print('parameters: ', gridSearch.best_params_)\n",
    "\n",
    "bestAccuracyKnn = gridSearch.best_estimator_"
   ]
  },
  {
   "cell_type": "code",
   "execution_count": 27,
   "id": "a9f6a231",
   "metadata": {},
   "outputs": [],
   "source": [
    "knnh = ('k_nn_HPT', str(gridSearch.best_params_), gridSearch.best_score_)\n",
    "model_selection.append(knnh)"
   ]
  },
  {
   "cell_type": "markdown",
   "id": "d4edfc5e",
   "metadata": {},
   "source": [
    "# Ensemble techniques "
   ]
  },
  {
   "cell_type": "markdown",
   "id": "f64b7145",
   "metadata": {},
   "source": [
    "## GradientBoostingClassifier"
   ]
  },
  {
   "cell_type": "code",
   "execution_count": 28,
   "id": "b62902db",
   "metadata": {},
   "outputs": [],
   "source": [
    "max_depth = [10]\n",
    "\n",
    "learning_rate = [0.1, 0.2 ,0.3]\n",
    "\n",
    "n_estimators = [int(x) for x in np.linspace(start = 1, stop = 10, num = 1)]\n",
    "\n",
    "param_gradient = { \n",
    "                     'n_estimators' : n_estimators,\n",
    "                      'learning_rate': learning_rate,\n",
    "                      'max_depth' : max_depth,\n",
    "                     }\n",
    "\n",
    "\n",
    "\n",
    "\n"
   ]
  },
  {
   "cell_type": "code",
   "execution_count": 29,
   "id": "1ea20af2",
   "metadata": {},
   "outputs": [],
   "source": [
    "gboost = GradientBoostingClassifier(random_state=1)\n",
    "best_random_search_model = RandomizedSearchCV(\n",
    "        estimator=gboost, \n",
    "        param_distributions=param_gradient, \n",
    "        n_iter = 2, \n",
    "        cv=10, \n",
    "        verbose=0, \n",
    "        n_jobs = -1\n",
    "    )\n",
    "_ = best_random_search_model.fit(X_train, y_train.values.ravel())"
   ]
  },
  {
   "cell_type": "code",
   "execution_count": 30,
   "id": "0f4b0db7",
   "metadata": {},
   "outputs": [
    {
     "name": "stdout",
     "output_type": "stream",
     "text": [
      "Best parameters found:  {'n_estimators': 1, 'max_depth': 10, 'learning_rate': 0.1}\n"
     ]
    }
   ],
   "source": [
    "random_search_best_params = best_random_search_model.best_params_\n",
    "print('Best parameters found: ', random_search_best_params)\n",
    "y_pred = best_random_search_model.predict(X_test)"
   ]
  },
  {
   "cell_type": "code",
   "execution_count": 31,
   "id": "40a92f77",
   "metadata": {},
   "outputs": [
    {
     "name": "stdout",
     "output_type": "stream",
     "text": [
      "Gradient Descent Model      Score       \n",
      "************************************\n",
      ">> Recall Score:  0.6428571428571429\n",
      "Accuracy Score:   0.6428571428571429\n",
      "Precision Score:  0.413265306122449\n",
      "F1 Score:         0.5031055900621119\n"
     ]
    }
   ],
   "source": [
    "print(f\"{'Gradient Descent Model':^18}{'Score':^18}\")\n",
    "print(\"************************************\")\n",
    "print(f\"{'>> Recall Score:':18}{recall_score(y_test, y_pred,average ='weighted')}\")\n",
    "print(f\"{'Accuracy Score: ':18}{accuracy_score(y_test, y_pred)}\")\n",
    "print(f\"{'Precision Score: ':18}{precision_score(y_test, y_pred,average ='weighted',  zero_division=0)}\")\n",
    "print(f\"{'F1 Score: ':18}{f1_score(y_test, y_pred,average ='weighted')}\")"
   ]
  },
  {
   "cell_type": "code",
   "execution_count": 32,
   "id": "99077965",
   "metadata": {},
   "outputs": [],
   "source": [
    "gdrow = (\"Gradient Descent\", str(random_search_best_params), recall_score(y_test, y_pred,average ='weighted'))\n",
    "model_selection.append(gdrow)"
   ]
  },
  {
   "cell_type": "markdown",
   "id": "6c5f1e15",
   "metadata": {},
   "source": [
    "## ADA boost "
   ]
  },
  {
   "cell_type": "code",
   "execution_count": 33,
   "id": "137e4eab",
   "metadata": {},
   "outputs": [],
   "source": [
    "aboost = AdaBoostClassifier(random_state=1)\n",
    "\n"
   ]
  },
  {
   "cell_type": "code",
   "execution_count": 34,
   "id": "769001f9",
   "metadata": {},
   "outputs": [],
   "source": [
    "learning_rate = [0.1,0.2,0.3,0.4,0.5,0.6,0.7,0.8,0.9,1]\n",
    "\n",
    "n_estimators = [50,100,150,200,250,300,350,400,450,500]\n",
    "\n",
    "param_gradient = { \n",
    "                     'n_estimators' : n_estimators,\n",
    "                      'learning_rate': learning_rate,\n",
    "                     }"
   ]
  },
  {
   "cell_type": "code",
   "execution_count": 35,
   "id": "003e550c",
   "metadata": {},
   "outputs": [
    {
     "name": "stderr",
     "output_type": "stream",
     "text": [
      "C:\\Users\\Kavya Reddy Basupall\\anaconda3\\lib\\site-packages\\sklearn\\model_selection\\_search.py:292: UserWarning: The total space of parameters 100 is smaller than n_iter=2000. Running 100 iterations. For exhaustive searches, use GridSearchCV.\n",
      "  warnings.warn(\n"
     ]
    }
   ],
   "source": [
    "best_random_search_model_aboost = RandomizedSearchCV(\n",
    "        estimator=aboost, \n",
    "        param_distributions=param_gradient,\n",
    "        n_iter = 2000, \n",
    "        cv=10, \n",
    "        verbose=0, \n",
    "        n_jobs = -1\n",
    "    )\n",
    "_ = best_random_search_model_aboost.fit(X_train, y_train.values.ravel())"
   ]
  },
  {
   "cell_type": "code",
   "execution_count": 36,
   "id": "7e4699df",
   "metadata": {},
   "outputs": [
    {
     "name": "stdout",
     "output_type": "stream",
     "text": [
      "Best parameters found:  RandomizedSearchCV(cv=10, estimator=AdaBoostClassifier(random_state=1),\n",
      "                   n_iter=2000, n_jobs=-1,\n",
      "                   param_distributions={'learning_rate': [0.1, 0.2, 0.3, 0.4,\n",
      "                                                          0.5, 0.6, 0.7, 0.8,\n",
      "                                                          0.9, 1],\n",
      "                                        'n_estimators': [50, 100, 150, 200, 250,\n",
      "                                                         300, 350, 400, 450,\n",
      "                                                         500]})\n"
     ]
    }
   ],
   "source": [
    "random_search_best_params_aboost = best_random_search_model_aboost.best_params_\n",
    "print('Best parameters found: ', best_random_search_model_aboost)"
   ]
  },
  {
   "cell_type": "code",
   "execution_count": 37,
   "id": "c0fd1dcb",
   "metadata": {},
   "outputs": [],
   "source": [
    "y_pred = best_random_search_model_aboost.predict(X_test)"
   ]
  },
  {
   "cell_type": "code",
   "execution_count": 38,
   "id": "b26c856e",
   "metadata": {},
   "outputs": [
    {
     "name": "stdout",
     "output_type": "stream",
     "text": [
      " ADA Boost Model        Score       \n",
      "************************************\n",
      ">> Recall Score:  0.9571428571428572\n",
      "Accuracy Score:   0.9571428571428572\n",
      "Precision Score:  0.9579170829170829\n",
      "F1 Score:         0.9573222547445946\n"
     ]
    }
   ],
   "source": [
    "print(f\"{'ADA Boost Model':^18}{'Score':^18}\")\n",
    "print(\"************************************\")\n",
    "print(f\"{'>> Recall Score:':18}{recall_score(y_test, y_pred,average ='weighted')}\")\n",
    "print(f\"{'Accuracy Score: ':18}{accuracy_score(y_test, y_pred)}\")\n",
    "print(f\"{'Precision Score: ':18}{precision_score(y_test, y_pred,average ='weighted')}\")\n",
    "print(f\"{'F1 Score: ':18}{f1_score(y_test, y_pred,average ='weighted')}\")"
   ]
  },
  {
   "cell_type": "code",
   "execution_count": 39,
   "id": "4c0abfd0",
   "metadata": {},
   "outputs": [],
   "source": [
    "xgbrow = (\"ADA Boost\", str(best_random_search_model_aboost), recall_score(y_test, y_pred,average ='weighted'))\n",
    "model_selection.append(xgbrow)"
   ]
  },
  {
   "cell_type": "markdown",
   "id": "8dbee744",
   "metadata": {},
   "source": [
    "# LogisticRegression"
   ]
  },
  {
   "cell_type": "code",
   "execution_count": 40,
   "id": "45b0203e",
   "metadata": {},
   "outputs": [],
   "source": [
    "logClassifier=LogisticRegression(random_state=1) \n",
    "_ = logClassifier.fit(X_train,y_train)"
   ]
  },
  {
   "cell_type": "code",
   "execution_count": 41,
   "id": "3ebaf904",
   "metadata": {},
   "outputs": [
    {
     "name": "stdout",
     "output_type": "stream",
     "text": [
      "[[129   6]\n",
      " [  4  71]]\n",
      "***********************\n",
      "Recall Score:     0.947\n",
      "***********************\n",
      "Accuracy Score:   0.952\n",
      "Precision Score:  0.922\n",
      "F1 Score:         0.934\n",
      "***********************\n"
     ]
    }
   ],
   "source": [
    "y_pred = logClassifier.predict(X_test)\n",
    "print(confusion_matrix(y_test, y_pred))\n",
    "print(\"***********************\")\n",
    "print(f\"{'Recall Score:':18}{recall_score(y_test, y_pred):.3f}\")\n",
    "print(\"***********************\")\n",
    "print(f\"{'Accuracy Score: ':18}{accuracy_score(y_test, y_pred):.3f}\")\n",
    "print(f\"{'Precision Score: ':18}{precision_score(y_test, y_pred):.3f}\")\n",
    "print(f\"{'F1 Score: ':18}{f1_score(y_test, y_pred):.3f}\")\n",
    "print(\"***********************\")"
   ]
  },
  {
   "cell_type": "code",
   "execution_count": 42,
   "id": "abac358d",
   "metadata": {},
   "outputs": [],
   "source": [
    "lrrow = (\"Logistic Regression\", '',recall_score(y_test, y_pred))\n",
    "model_selection.append(lrrow)"
   ]
  },
  {
   "cell_type": "markdown",
   "id": "23551188",
   "metadata": {},
   "source": [
    "# ANN (artificial Neural Network)"
   ]
  },
  {
   "cell_type": "code",
   "execution_count": 43,
   "id": "f2f5d526",
   "metadata": {},
   "outputs": [],
   "source": [
    "hidden_layor_2=  tuple(range(480, 20, -50))\n",
    "max_iter  =400 "
   ]
  },
  {
   "cell_type": "code",
   "execution_count": 44,
   "id": "54adb9df",
   "metadata": {},
   "outputs": [
    {
     "name": "stdout",
     "output_type": "stream",
     "text": [
      "CPU times: total: 28.3 s\n",
      "Wall time: 13.9 s\n"
     ]
    }
   ],
   "source": [
    "%%time\n",
    "%%capture --no-display\n",
    "\n",
    "ann_2 = MLPClassifier(hidden_layer_sizes= hidden_layor_2, solver='adam', max_iter=max_iter)\n",
    "_ = ann_2.fit(X_train, y_train)"
   ]
  },
  {
   "cell_type": "code",
   "execution_count": 45,
   "id": "62fa0898",
   "metadata": {},
   "outputs": [
    {
     "name": "stdout",
     "output_type": "stream",
     "text": [
      "CPU times: total: 125 ms\n",
      "Wall time: 29.3 ms\n"
     ]
    }
   ],
   "source": [
    "%%time\n",
    "\n",
    "y_pred = ann_2.predict(X_test)"
   ]
  },
  {
   "cell_type": "code",
   "execution_count": 46,
   "id": "e374fbe4",
   "metadata": {},
   "outputs": [
    {
     "name": "stdout",
     "output_type": "stream",
     "text": [
      "              precision    recall  f1-score   support\n",
      "\n",
      "           0       0.96      0.96      0.96       135\n",
      "           1       0.93      0.93      0.93        75\n",
      "\n",
      "    accuracy                           0.95       210\n",
      "   macro avg       0.95      0.95      0.95       210\n",
      "weighted avg       0.95      0.95      0.95       210\n",
      "\n"
     ]
    }
   ],
   "source": [
    "print(classification_report(y_test, y_pred))"
   ]
  },
  {
   "cell_type": "code",
   "execution_count": 47,
   "id": "f19cf271",
   "metadata": {},
   "outputs": [],
   "source": [
    "Recall_ann = recall_score(y_test, y_pred)\n",
    "\n",
    "annrow = (\"ANN\", f\"hidden layors: {', '.join(str(hidden_layor_2))}\", Recall_ann)\n",
    "model_selection.append(annrow)"
   ]
  },
  {
   "cell_type": "markdown",
   "id": "de106a37",
   "metadata": {},
   "source": [
    "## Comparing all Models "
   ]
  },
  {
   "cell_type": "code",
   "execution_count": 48,
   "id": "be27c31c",
   "metadata": {},
   "outputs": [
    {
     "data": {
      "text/html": [
       "<div>\n",
       "<style scoped>\n",
       "    .dataframe tbody tr th:only-of-type {\n",
       "        vertical-align: middle;\n",
       "    }\n",
       "\n",
       "    .dataframe tbody tr th {\n",
       "        vertical-align: top;\n",
       "    }\n",
       "\n",
       "    .dataframe thead th {\n",
       "        text-align: right;\n",
       "    }\n",
       "</style>\n",
       "<table border=\"1\" class=\"dataframe\">\n",
       "  <thead>\n",
       "    <tr style=\"text-align: right;\">\n",
       "      <th></th>\n",
       "      <th>model_name</th>\n",
       "      <th>description</th>\n",
       "      <th>recall_score</th>\n",
       "    </tr>\n",
       "  </thead>\n",
       "  <tbody>\n",
       "    <tr>\n",
       "      <th>0</th>\n",
       "      <td>K-nn</td>\n",
       "      <td>k=5, threshold = 0.05</td>\n",
       "      <td>0.986667</td>\n",
       "    </tr>\n",
       "    <tr>\n",
       "      <th>1</th>\n",
       "      <td>D-tree</td>\n",
       "      <td>depth = 4, leaf_nodes = 3</td>\n",
       "      <td>0.981928</td>\n",
       "    </tr>\n",
       "    <tr>\n",
       "      <th>2</th>\n",
       "      <td>D_tree_HPT</td>\n",
       "      <td>{'max_depth': 5, 'min_impurity_decrease': 0, '...</td>\n",
       "      <td>0.963235</td>\n",
       "    </tr>\n",
       "    <tr>\n",
       "      <th>3</th>\n",
       "      <td>k_nn_HPT</td>\n",
       "      <td>{'metric': 'euclidean', 'n_neighbors': 5}</td>\n",
       "      <td>0.957721</td>\n",
       "    </tr>\n",
       "    <tr>\n",
       "      <th>4</th>\n",
       "      <td>Gradient Descent</td>\n",
       "      <td>{'n_estimators': 1, 'max_depth': 10, 'learning...</td>\n",
       "      <td>0.642857</td>\n",
       "    </tr>\n",
       "    <tr>\n",
       "      <th>5</th>\n",
       "      <td>ADA Boost</td>\n",
       "      <td>RandomizedSearchCV(cv=10, estimator=AdaBoostCl...</td>\n",
       "      <td>0.957143</td>\n",
       "    </tr>\n",
       "    <tr>\n",
       "      <th>6</th>\n",
       "      <td>Logistic Regression</td>\n",
       "      <td></td>\n",
       "      <td>0.946667</td>\n",
       "    </tr>\n",
       "    <tr>\n",
       "      <th>7</th>\n",
       "      <td>ANN</td>\n",
       "      <td>hidden layors: (, 4, 8, 0, ,,  , 4, 3, 0, ,,  ...</td>\n",
       "      <td>0.933333</td>\n",
       "    </tr>\n",
       "  </tbody>\n",
       "</table>\n",
       "</div>"
      ],
      "text/plain": [
       "            model_name                                        description  \\\n",
       "0                 K-nn                              k=5, threshold = 0.05   \n",
       "1               D-tree                          depth = 4, leaf_nodes = 3   \n",
       "2           D_tree_HPT  {'max_depth': 5, 'min_impurity_decrease': 0, '...   \n",
       "3             k_nn_HPT          {'metric': 'euclidean', 'n_neighbors': 5}   \n",
       "4     Gradient Descent  {'n_estimators': 1, 'max_depth': 10, 'learning...   \n",
       "5            ADA Boost  RandomizedSearchCV(cv=10, estimator=AdaBoostCl...   \n",
       "6  Logistic Regression                                                      \n",
       "7                  ANN  hidden layors: (, 4, 8, 0, ,,  , 4, 3, 0, ,,  ...   \n",
       "\n",
       "   recall_score  \n",
       "0      0.986667  \n",
       "1      0.981928  \n",
       "2      0.963235  \n",
       "3      0.957721  \n",
       "4      0.642857  \n",
       "5      0.957143  \n",
       "6      0.946667  \n",
       "7      0.933333  "
      ]
     },
     "execution_count": 48,
     "metadata": {},
     "output_type": "execute_result"
    }
   ],
   "source": [
    "all_models = pd.DataFrame(model_selection, columns= ['model_name', 'description', 'recall_score'])\n",
    "all_models"
   ]
  },
  {
   "cell_type": "markdown",
   "id": "99c952f9",
   "metadata": {},
   "source": [
    "# plot all scores of all models implemented"
   ]
  },
  {
   "cell_type": "code",
   "execution_count": 49,
   "id": "50a6c256",
   "metadata": {},
   "outputs": [
    {
     "data": {
      "image/png": "[encoded data removed]",
      "text/plain": [
       "<Figure size 1800x1080 with 1 Axes>"
      ]
     },
     "metadata": {
      "needs_background": "light"
     },
     "output_type": "display_data"
    },
    {
     "data": {
      "text/plain": [
       "<Figure size 432x288 with 0 Axes>"
      ]
     },
     "metadata": {},
     "output_type": "display_data"
    }
   ],
   "source": [
    "df1 = all_models.filter(items= ['model_name', 'recall_score'])\n",
    "\n",
    "fig = plt.figure(figsize = (25, 15))\n",
    "\n",
    "\n",
    "\n",
    "sns.set_style('darkgrid')\n",
    "sns.set(font_scale=2)\n",
    "\n",
    "plots = sns.barplot(x=\"model_name\", y= \"recall_score\", data=df1)\n",
    "plots.set_xticklabels(plots.get_xticklabels(), rotation=45)\n",
    "# Iterrating over the bars one-by-one\n",
    "for bar in plots.patches:\n",
    "   \n",
    "  # Using Matplotlib's annotate function and\n",
    "  # passing the coordinates where the annotation shall be done\n",
    "  # x-coordinate: bar.get_x() + bar.get_width() / 2\n",
    "  # y-coordinate: bar.get_height()\n",
    "  # free space to be left to make graph pleasing: (0, 8)\n",
    "  # ha and va stand for the horizontal and vertical alignment\n",
    "  plots.annotate(format(bar.get_height(), '.3f'),\n",
    "                   (bar.get_x() + bar.get_width() / 2 ,\n",
    "                    bar.get_height()), ha='center', va='center',\n",
    "                   size=15, xytext=(0, 8),\n",
    "                   textcoords='offset points')\n",
    " \n",
    "# Setting the label for x-axis\n",
    "plt.xlabel(\"Prediction Model Name\", size=14)\n",
    " \n",
    "# Setting the label for y-axis\n",
    "plt.ylabel(\"Sensitivity/Recall Score\", size=14)\n",
    " \n",
    "# Setting the title for the graph\n",
    "plt.title(\"Bar Plot of recall score for various prediction models\")\n",
    " \n",
    "# Finally showing the plot\n",
    "plt.show()\n",
    "\n",
    "## Save Model Selection graph\n",
    "plt.savefig('model_selection.png')"
   ]
  },
  {
   "cell_type": "markdown",
   "id": "8a902d44",
   "metadata": {},
   "source": [
    "# Analysis:\n",
    "\n",
    "1.We have fitted various Machine learning models, applied performance tunning and tried Ensemble techniques. also Neural networks to the sampled clinical trial Breast cancer data and plotted the performance metrics (Recall) for all the models.\n",
    "\n",
    "2. From the above analysis, we have decided that Recall is our best and deciding metric for model selection. \n",
    "\n",
    "3. Therefore, from the above bar graph, we can compare the Recall scores and chose the best model which is the K-nn model or logistic regression model is the best fitting model for our breast cancer data.\n",
    "\n",
    "Below are our best models, their best parameters and best Recall score "
   ]
  },
  {
   "cell_type": "code",
   "execution_count": 50,
   "id": "74754983",
   "metadata": {},
   "outputs": [
    {
     "data": {
      "text/html": [
       "<div>\n",
       "<style scoped>\n",
       "    .dataframe tbody tr th:only-of-type {\n",
       "        vertical-align: middle;\n",
       "    }\n",
       "\n",
       "    .dataframe tbody tr th {\n",
       "        vertical-align: top;\n",
       "    }\n",
       "\n",
       "    .dataframe thead th {\n",
       "        text-align: right;\n",
       "    }\n",
       "</style>\n",
       "<table border=\"1\" class=\"dataframe\">\n",
       "  <thead>\n",
       "    <tr style=\"text-align: right;\">\n",
       "      <th></th>\n",
       "      <th>model_name</th>\n",
       "      <th>description</th>\n",
       "      <th>recall_score</th>\n",
       "    </tr>\n",
       "  </thead>\n",
       "  <tbody>\n",
       "    <tr>\n",
       "      <th>0</th>\n",
       "      <td>K-nn</td>\n",
       "      <td>k=5, threshold = 0.05</td>\n",
       "      <td>0.986667</td>\n",
       "    </tr>\n",
       "  </tbody>\n",
       "</table>\n",
       "</div>"
      ],
      "text/plain": [
       "  model_name            description  recall_score\n",
       "0       K-nn  k=5, threshold = 0.05      0.986667"
      ]
     },
     "execution_count": 50,
     "metadata": {},
     "output_type": "execute_result"
    }
   ],
   "source": [
    "best_model = all_models[all_models['model_name'].isin(['K-nn'])]\n",
    "best_model"
   ]
  },
  {
   "cell_type": "code",
   "execution_count": null,
   "id": "e8af53e3",
   "metadata": {},
   "outputs": [],
   "source": []
  }
 ],
 "metadata": {
  "kernelspec": {
   "display_name": "Python 3 (ipykernel)",
   "language": "python",
   "name": "python3"
  },
  "language_info": {
   "codemirror_mode": {
    "name": "ipython",
    "version": 3
   },
   "file_extension": ".py",
   "mimetype": "text/x-python",
   "name": "python",
   "nbconvert_exporter": "python",
   "pygments_lexer": "ipython3",
   "version": "3.9.12"
  }
 },
 "nbformat": 4,
 "nbformat_minor": 5
}
